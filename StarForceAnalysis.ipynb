{
 "cells": [
  {
   "cell_type": "markdown",
   "metadata": {},
   "source": [
    "### Practice SQL queries with Python and sqlite3"
   ]
  },
  {
   "cell_type": "markdown",
   "metadata": {},
   "source": [
    "As a data scientist, you'll not only be analysing, but assembling data into larger datasets. While you could add individual rows to a table, its more common to add many rows, or even create a new table from a large file. Comma separated variable (CSV) files are simply text with the column entries in each row separated by a comma. Other separators can be used instead, but let's stick with commas. \n",
    "There is an abundance of data on the internet, but let's make some ourselves. We will create data to populate some fields in two CSV files. Let's imagine that we work for Star Force (I was going to use \"Space Force\" until I learned there is already an organization called that. Can you believe that?). Star Force command suspects that its best starship pilots, the ones who have accumulated the highest scores, are teamed with the best engineers. Engineers are shipmates who aid in all manner of starship systems control and maintenance. Command has asked you, a newly assigned analyst, to confirm their belief; they have asked you to identify the engineers teamed with the highest performing pilots, say with scores above 0.85.\n",
    "First, let's create two CSV files: pilots.csv and engineers.csv. Then we create a database and insert the pilots data into one table, and insert the engineers data into the other."
   ]
  },
  {
   "cell_type": "code",
   "execution_count": 1,
   "metadata": {},
   "outputs": [],
   "source": [
    "import csv, sqlite3"
   ]
  },
  {
   "cell_type": "code",
   "execution_count": 2,
   "metadata": {},
   "outputs": [],
   "source": [
    "with open('./data/pilots.csv') as csvfile:\n",
    "    readCSV = csv.reader(csvfile, delimiter=',')\n",
    "    rows = []\n",
    "    FIRSTROW = 1\n",
    "    for row in readCSV:\n",
    "        if not FIRSTROW:\n",
    "            if len(row)>0:\n",
    "                rows.append(row)\n",
    "        else:\n",
    "            FIRSTROW = 0\n",
    "\n",
    "conn = sqlite3.connect('./data/starforce_personnel.db')\n",
    "cur = conn.cursor()\n",
    "\n",
    "# Create table\n",
    "cur.execute('''CREATE TABLE pilots\n",
    "             (forceId integer, name text, score real, shipmateId integer)''')\n",
    "\n",
    "for irow in range(len(rows)):\n",
    "    # Insert a row of data\n",
    "    thisRow = rows[irow]\n",
    "    cur.execute(\"INSERT INTO pilots VALUES (?,?,?,?)\", thisRow)\n",
    "\n",
    "\n",
    "# commit (save) the changes and close the connection\n",
    "conn.commit()\n",
    "conn.close()"
   ]
  },
  {
   "cell_type": "markdown",
   "metadata": {},
   "source": [
    "Note we must first create a Connection object that represents the database. Then we can create a Cursor object and call its execute() method to perform SQL commands. In the CREATE TABLE command above, you'll notice that for each column name we define, we must speficy the data type. \"forceId\" is an integer, \"name\" is text, \"score\" is real (floating-point), and shipmateId is also of type integer.\n",
    "Let's print this first table to see what kind of data we are dealing with. I first print the column names before printing the rows, and I've defined a spacing for each column to make the table easier to read."
   ]
  },
  {
   "cell_type": "code",
   "execution_count": 3,
   "metadata": {},
   "outputs": [
    {
     "name": "stdout",
     "output_type": "stream",
     "text": [
      "\n",
      " forceId  | name        | score    | shipmateId\n",
      "---------------------------------------------\n",
      " 1001       Xerxoid       0.978       700\n",
      " 992        Memoisma      0.777       711\n",
      " 223        Uhrlohna      0.885       723\n",
      " 536        Schwifty      0.996       776\n",
      " 109        Xuma          0.899       \n"
     ]
    }
   ],
   "source": [
    "conn = sqlite3.connect('./data/starforce_personnel.db')\n",
    "cur = conn.cursor()\n",
    "\n",
    "# get column names and \n",
    "cur.execute(\"select * from pilots where 1=0;\")\n",
    "col_names = [x[0] for x in cur.description]\n",
    "print('\\n',f'{col_names[0]:<8} | {col_names[1]:<11} | {col_names[2]:<8} | {col_names[3]}')\n",
    "print('-'*(11+14+12+8))\n",
    "\n",
    "# query to get all rows\n",
    "cur.execute(\"select * from pilots\")\n",
    "for row in cur:\n",
    "    rowstr = f'{row[0]:<11}{row[1]:<14}{row[2]:<12}{row[3]}'\n",
    "    print(' ' + rowstr)\n",
    "\n",
    "conn.close()"
   ]
  },
  {
   "cell_type": "markdown",
   "metadata": {},
   "source": [
    "It seems that Xuma has no shipmate. Maybe his shipmate was transferred, or maybe he is flying an experimental class fighter that requires only a pilot. As data analysts and data scientists, we must get used to missing entries like this. Now let's read the engineers data from file and save this to a separate table in our database."
   ]
  },
  {
   "cell_type": "code",
   "execution_count": 4,
   "metadata": {},
   "outputs": [],
   "source": [
    "with open('./data/engineers.csv') as csvfile:\n",
    "    readCSV = csv.reader(csvfile, delimiter=',')\n",
    "    rows = []\n",
    "    FIRSTROW = 1\n",
    "    for row in readCSV:\n",
    "        if not FIRSTROW:\n",
    "            if len(row)>0:\n",
    "                rows.append(row)\n",
    "        else:\n",
    "            FIRSTROW = 0\n",
    "\n",
    "conn = sqlite3.connect('./data/starforce_personnel.db')\n",
    "c = conn.cursor()\n",
    "\n",
    "# Create table\n",
    "c.execute('''CREATE TABLE engineers\n",
    "             (forceId integer, name text, score real, shipmateId integer)''')\n",
    "\n",
    "for irow in range(len(rows)):\n",
    "    # Insert a row of data\n",
    "    thisRow = rows[irow]\n",
    "    c.execute(\"INSERT INTO engineers VALUES (?,?,?,?)\", thisRow)\n",
    "\n",
    "conn.commit()\n",
    "conn.close()"
   ]
  },
  {
   "cell_type": "markdown",
   "metadata": {},
   "source": [
    "Let's read the engineers table."
   ]
  },
  {
   "cell_type": "code",
   "execution_count": 5,
   "metadata": {},
   "outputs": [
    {
     "name": "stdout",
     "output_type": "stream",
     "text": [
      "\n",
      " forceId  | name        | score    | shipmateId\n",
      "---------------------------------------------\n",
      " 723        Qualan        0.57        223\n",
      " 776        Yhrr          0.878       536\n",
      " 700        Osann-qui     0.902       1001\n",
      " 711        Siratik       0.917       992\n",
      " 784        Qyllichk      0.942       437\n",
      " 767        Phyrhynn      0.965       692\n"
     ]
    }
   ],
   "source": [
    "conn = sqlite3.connect('./data/starforce_personnel.db')\n",
    "cur = conn.cursor()\n",
    "\n",
    "# get column names and \n",
    "cur.execute(\"select * from engineers where 1=0;\")\n",
    "col_names = [x[0] for x in cur.description]\n",
    "print('\\n',f'{col_names[0]:<8} | {col_names[1]:<11} | {col_names[2]:<8} | {col_names[3]}')\n",
    "print('-'*(11+14+12+8))\n",
    "\n",
    "# query to get all rows\n",
    "cur.execute(\"select * from engineers\")\n",
    "for row in cur:\n",
    "    rowstr = f'{row[0]:<11}{row[1]:<14}{row[2]:<12}{row[3]}'\n",
    "    print(' ' + rowstr)\n",
    "\n",
    "conn.close()"
   ]
  },
  {
   "cell_type": "markdown",
   "metadata": {},
   "source": [
    "Wait a sec, there are more entries in the engineers table than in the pilots table. That must mean that some of the engineers shipmates are not listed in the pilots table. We need to do a query to find out which engineers shipmateId values are not found the in pilots forceId column. This is getting ahead of ourselves though since we haven't even learned to do a simple query. Lets do that now by checking which pilots have scores above 0.85."
   ]
  },
  {
   "cell_type": "code",
   "execution_count": 6,
   "metadata": {},
   "outputs": [
    {
     "name": "stdout",
     "output_type": "stream",
     "text": [
      "(1001, 'Xerxoid')\n",
      "(223, 'Uhrlohna')\n",
      "(536, 'Schwifty')\n",
      "(109, 'Xuma')\n"
     ]
    }
   ],
   "source": [
    "conn = sqlite3.connect('./data/starforce_personnel.db')\n",
    "cur = conn.cursor()\n",
    "query_1 = '''\n",
    "SELECT forceId, name\n",
    "FROM pilots\n",
    "WHERE pilots.score > 0.85;\n",
    "'''\n",
    "cur.execute(query_1)\n",
    "for row in cur:\n",
    "    print(row)"
   ]
  },
  {
   "cell_type": "markdown",
   "metadata": {},
   "source": [
    "Great, we can now SELECT column1, column2, etc., FROM a table specifying a filter using WHERE. We dispensed with the pretty printing here and notice how few lines of code are required for a query. Now let's try to answer the question that was bugging us: Which engineers shipmateId values are not found in the pilots forceId column?"
   ]
  },
  {
   "cell_type": "code",
   "execution_count": 7,
   "metadata": {},
   "outputs": [
    {
     "name": "stdout",
     "output_type": "stream",
     "text": [
      "(437,)\n",
      "(692,)\n"
     ]
    }
   ],
   "source": [
    "conn = sqlite3.connect('./data/starforce_personnel.db')\n",
    "cur = conn.cursor()\n",
    "query_2 = '''\n",
    "SELECT shipmateId\n",
    "FROM   engineers\n",
    "WHERE  shipmateId NOT IN (SELECT forceId FROM pilots)\n",
    "'''\n",
    "cur.execute(query_2)\n",
    "for row in cur:\n",
    "    print(row)"
   ]
  },
  {
   "cell_type": "markdown",
   "metadata": {},
   "source": [
    "Looking back where we printed the pilots table we can verify that indeed there are no pilots with these two forceId values. Some overworked Star Force official somehow forgot to add this data. We'll worry about that later, for now we are getting confident in our SQL and can perfom a query to answer the question that Star Force Command gave us, namely, \"What are the names of the pilot & engineer teams with pilot scores greater than 0.85?\"."
   ]
  },
  {
   "cell_type": "code",
   "execution_count": 8,
   "metadata": {},
   "outputs": [
    {
     "name": "stdout",
     "output_type": "stream",
     "text": [
      "('Osann-qui', 'Xerxoid')\n",
      "('Qualan', 'Uhrlohna')\n",
      "('Yhrr', 'Schwifty')\n"
     ]
    }
   ],
   "source": [
    "# INNER JOIN with filter\n",
    "query_3 = '''\n",
    "SELECT engineers.name, pilots.name\n",
    "FROM\n",
    "    engineers\n",
    "        INNER JOIN\n",
    "    pilots ON pilots.shipmateId = engineers.forceId\n",
    "WHERE pilots.score > 0.85;\n",
    "'''\n",
    "cur.execute(query_3)\n",
    "for row in cur:\n",
    "    print(row)"
   ]
  },
  {
   "cell_type": "markdown",
   "metadata": {},
   "source": [
    "This query was more advanced that the previous one, using something called INNER JOIN, so we should check the result carefully. Compare the two printed tables, you'll see that Xerxoid, Uhrlohna, and Schwifty were the three pilots having scores above 0.85, and that Osann-qui, Qualan, and Yhrr are their respective engineers. Xuma also has a score above 0.85, however he has no assigned engineer and so can't be considered here.\n",
    "\n",
    "This data and these examples were contrived to be simple, but I hope that they illustrate how easily a database can be read from and written to with Python & sqlite3. Later, I'll introduce more complex queries on larger datasets, trying to cover the most common types that a data scientist might use, or that an aspiring data scientist might expect to encounter in a technical interview."
   ]
  },
  {
   "cell_type": "code",
   "execution_count": null,
   "metadata": {},
   "outputs": [],
   "source": []
  }
 ],
 "metadata": {
  "kernelspec": {
   "display_name": "Python 3",
   "language": "python",
   "name": "python3"
  },
  "language_info": {
   "codemirror_mode": {
    "name": "ipython",
    "version": 3
   },
   "file_extension": ".py",
   "mimetype": "text/x-python",
   "name": "python",
   "nbconvert_exporter": "python",
   "pygments_lexer": "ipython3",
   "version": "3.7.5"
  }
 },
 "nbformat": 4,
 "nbformat_minor": 2
}
